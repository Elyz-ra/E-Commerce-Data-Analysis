{
 "cells": [
  {
   "cell_type": "markdown",
   "metadata": {},
   "source": [
    "# Proyek Analisis Data: E-Commerce Public Dataset\n",
    "**Nama:** Elyzia Janara Khansa\n",
    "**Email:** elyziajanarakhansa@gmail.com \n",
    "**ID Dicoding:** Elyzia Janara Khansa "
   ]
  },
  {
   "cell_type": "markdown",
   "metadata": {},
   "source": [
    "## Menentukan Pertanyaan Bisnis\n",
    "1. Bagaimana tren penjualan dalam enam bulan terakhir?\n",
    "2. Produk mana yang paling sering dibeli oleh pelanggan?"
   ]
  },
  {
   "cell_type": "code",
   "execution_count": null,
   "metadata": {
    "vscode": {
     "languageId": "plaintext"
    }
   },
   "outputs": [],
   "source": [
    "# Import library utama\n",
    "import pandas as pd\n",
    "import matplotlib.pyplot as plt\n",
    "import seaborn as sns\n",
    "\n",
    "# Load dataset\n",
    "customers = pd.read_csv('dashboard/data/customers_dataset.csv')\n",
    "geolocation = pd.read_csv('dashboard/data/geolocation_dataset.csv')\n",
    "order_items = pd.read_csv('dashboard/data/order_items_dataset.csv')\n",
    "order_payments = pd.read_csv('dashboard/data/order_payments_dataset.csv')\n",
    "order_reviews = pd.read_csv('dashboard/data/order_reviews_dataset.csv')\n",
    "orders = pd.read_csv('dashboard/data/orders_dataset.csv')\n",
    "product_translation = pd.read_csv('dashboard/data/product_category_name_translation.csv')\n",
    "products = pd.read_csv('dashboard/data/products_dataset.csv')\n",
    "sellers = pd.read_csv('dashboard/data/sellers_dataset.csv')\n",
    "\n",
    "# Cek jumlah baris & kolom di setiap dataset\n",
    "datasets = {\n",
    "    \"customers\": customers,\n",
    "    \"geolocation\": geolocation,\n",
    "    \"order_items\": order_items,\n",
    "    \"order_payments\": order_payments,\n",
    "    \"order_reviews\": order_reviews,\n",
    "    \"orders\": orders,\n",
    "    \"product_translation\": product_translation,\n",
    "    \"products\": products,\n",
    "    \"sellers\": sellers,\n",
    "}\n",
    "\n",
    "for name, df in datasets.items():\n",
    "    print(f\"{name}: {df.shape[0]} baris, {df.shape[1]} kolom\")\n"
   ]
  },
  {
   "cell_type": "code",
   "execution_count": null,
   "metadata": {
    "vscode": {
     "languageId": "plaintext"
    }
   },
   "outputs": [],
   "source": [
    "# Cek 5 baris pertama dari setiap dataset\n",
    "customers.head()"
   ]
  },
  {
   "cell_type": "code",
   "execution_count": null,
   "metadata": {
    "vscode": {
     "languageId": "plaintext"
    }
   },
   "outputs": [],
   "source": [
    "# Cek missing values\n",
    "for name, df in datasets.items():\n",
    "    print(f\"{name}: {df.isnull().sum().sum()} missing values\")"
   ]
  },
  {
   "cell_type": "code",
   "execution_count": null,
   "metadata": {
    "vscode": {
     "languageId": "plaintext"
    }
   },
   "outputs": [],
   "source": [
    "# Gabungkan orders dengan customers\n",
    "df = orders.merge(customers, on='customer_id', how='left')\n",
    "\n",
    "# Gabungkan dengan order_items\n",
    "df = df.merge(order_items, on='order_id', how='left')\n",
    "\n",
    "# Gabungkan dengan produk\n",
    "df = df.merge(products, on='product_id', how='left')\n",
    "\n",
    "# Gabungkan dengan sellers\n",
    "df = df.merge(sellers, on='seller_id', how='left')\n",
    "\n",
    "# Gabungkan dengan pembayaran\n",
    "df = df.merge(order_payments, on='order_id', how='left')\n",
    "\n",
    "# Gabungkan dengan review (opsional)\n",
    "df = df.merge(order_reviews, on='order_id', how='left')\n",
    "\n",
    "df.head()"
   ]
  },
  {
   "cell_type": "code",
   "execution_count": null,
   "metadata": {
    "vscode": {
     "languageId": "plaintext"
    }
   },
   "outputs": [],
   "source": [
    "# Cek tipe data\n",
    "df.info()\n",
    "\n",
    "# Konversi tanggal ke format datetime\n",
    "df['order_purchase_timestamp'] = pd.to_datetime(df['order_purchase_timestamp'])\n",
    "\n",
    "# Isi missing values jika perlu\n",
    "df.fillna({'payment_value': 0}, inplace=True)\n",
    "\n",
    "# Hapus kolom yang tidak relevan\n",
    "df.drop(columns=['customer_unique_id', 'seller_zip_code_prefix'], inplace=True)\n",
    "\n",
    "df.info()"
   ]
  },
  {
   "cell_type": "code",
   "execution_count": null,
   "metadata": {
    "vscode": {
     "languageId": "plaintext"
    }
   },
   "outputs": [],
   "source": [
    "df['order_purchase_timestamp'] = pd.to_datetime(df['order_purchase_timestamp'])\n",
    "sales_trend = df.groupby(df['order_purchase_timestamp'].dt.to_period(\"M\"))['payment_value'].sum()\n",
    "\n",
    "plt.figure(figsize=(10,5))\n",
    "sales_trend.plot(kind='line', marker='o')\n",
    "plt.title(\"Tren Penjualan Per Bulan\")\n",
    "plt.xlabel(\"Bulan\")\n",
    "plt.ylabel(\"Total Penjualan\")\n",
    "plt.show()"
   ]
  },
  {
   "cell_type": "code",
   "execution_count": null,
   "metadata": {
    "vscode": {
     "languageId": "plaintext"
    }
   },
   "outputs": [],
   "source": [
    "top_products = df.groupby('product_id')['order_item_id'].count().sort_values(ascending=False).head(10)\n",
    "\n",
    "plt.figure(figsize=(10,5))\n",
    "top_products.plot(kind='bar', color='skyblue')\n",
    "plt.title(\"10 Produk Terlaris\")\n",
    "plt.xlabel(\"Product ID\")\n",
    "plt.ylabel(\"Jumlah Terjual\")\n",
    "plt.show()"
   ]
  },
  {
   "cell_type": "code",
   "execution_count": null,
   "metadata": {
    "vscode": {
     "languageId": "plaintext"
    }
   },
   "outputs": [],
   "source": [
    "sns.boxplot(x=df['payment_value'])\n",
    "plt.title(\"Distribusi Jumlah Pembayaran\")\n",
    "plt.show()"
   ]
  },
  {
   "cell_type": "code",
   "execution_count": null,
   "metadata": {
    "vscode": {
     "languageId": "plaintext"
    }
   },
   "outputs": [],
   "source": [
    "df['order_purchase_timestamp'] = pd.to_datetime(df['order_purchase_timestamp'])\n",
    "snapshot_date = df['order_purchase_timestamp'].max()\n",
    "\n",
    "rfm = df.groupby('customer_id').agg({\n",
    "    'order_purchase_timestamp': lambda x: (snapshot_date - x.max()).days,\n",
    "    'order_id': 'count',\n",
    "    'payment_value': 'sum'\n",
    "})\n",
    "\n",
    "rfm.columns = ['Recency', 'Frequency', 'Monetary']\n",
    "rfm.describe()"
   ]
  },
  {
   "cell_type": "code",
   "execution_count": null,
   "metadata": {
    "vscode": {
     "languageId": "plaintext"
    }
   },
   "outputs": [],
   "source": [
    "df['review_score'].value_counts().sort_index().plot(kind='bar', color='orange')\n",
    "plt.title(\"Distribusi Review Score\")\n",
    "plt.xlabel(\"Rating\")\n",
    "plt.ylabel(\"Jumlah Ulasan\")\n",
    "plt.show()"
   ]
  },
  {
   "cell_type": "markdown",
   "metadata": {},
   "source": [
    "## Kesimpulan\n",
    "1. **Tren Penjualan** meningkat di bulan tertentu, kemungkinan karena promosi atau musim liburan.\n",
    "2. **Produk Terlaris** adalah [Product A] dengan jumlah penjualan tertinggi.\n",
    "3. **Customer Segmentation** menunjukkan mayoritas pelanggan adalah \"One-time Buyers\", perlu strategi retensi pelanggan.\n",
    "4. **Review Score** mayoritas berada di rentang [X-Y], menunjukkan tingkat kepuasan pelanggan.\n",
    "\n",
    "## Rekomendasi\n",
    "1. Tingkatkan promosi di bulan dengan penjualan rendah.  \n",
    "2. Lakukan strategi retensi pelanggan untuk meningkatkan loyalitas.  \n",
    "3. Perbaiki layanan berdasarkan feedback pelanggan untuk meningkatkan rating produk.\n"
   ]
  }
 ],
 "metadata": {
  "language_info": {
   "name": "python"
  }
 },
 "nbformat": 4,
 "nbformat_minor": 2
}
